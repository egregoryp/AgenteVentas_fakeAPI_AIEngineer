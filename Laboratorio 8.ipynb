{
 "cells": [
  {
   "cell_type": "markdown",
   "metadata": {},
   "source": []
  },
  {
   "cell_type": "code",
   "execution_count": 1,
   "metadata": {},
   "outputs": [],
   "source": [
    "import os\n",
    "from dotenv import load_dotenv\n",
    "\n",
    "load_dotenv()\n",
    "\n",
    "os.environ[\"OPENAI_API_KEY\"] = os.getenv(\"OPENAI_API_KEY\")"
   ]
  },
  {
   "cell_type": "markdown",
   "metadata": {},
   "source": [
    "## State"
   ]
  },
  {
   "cell_type": "code",
   "execution_count": 2,
   "metadata": {},
   "outputs": [],
   "source": [
    "from typing import List, Annotated\n",
    "from typing_extensions import TypedDict\n",
    "from langchain_core.messages import BaseMessage\n",
    "from langgraph.graph.message import add_messages\n",
    "\n",
    "class State(TypedDict):\n",
    "    respuesta_final: str\n",
    "    messages: Annotated[List[BaseMessage], add_messages]\n",
    "\n",
    "class OutputState(TypedDict):\n",
    "    respuesta_final: str"
   ]
  },
  {
   "cell_type": "markdown",
   "metadata": {},
   "source": [
    "## Agente Supervisor"
   ]
  },
  {
   "cell_type": "code",
   "execution_count": 3,
   "metadata": {},
   "outputs": [],
   "source": [
    "from typing import Literal\n",
    "from typing_extensions import TypedDict\n",
    "from langchain_openai import ChatOpenAI\n",
    "from langgraph.graph import StateGraph, START, END, MessagesState\n",
    "from langgraph.types import Command\n",
    "\n",
    "\n",
    "# agente de almacén y el agente de compras\n",
    "agents = [\"storekeeper\", \"buyer\"]\n",
    "\n",
    "system_prompt = (\n",
    "    \"Eres un supervisor encargado de gestionar una conversación entre los\"\n",
    "    f\" siguientes Agentes: {agents}. Dada la siguiente solicitud del usuario,\"\n",
    "    \" responde indicando qué Agente debe actuar a continuación. Cada Agente\"\n",
    "    \" realizará una tarea y responderá con sus resultados y estado. Cuando todos\"\n",
    "    \" storekeeper encargado de brindar información sobre  el inventario.\"\n",
    "    \" buyer encargado de agregar productos al inventario\"\n",
    "    \" hayan terminado, responde con FINISH.\"\n",
    ")\n",
    "\n",
    "class RouterOutput(TypedDict):\n",
    "    \"\"\"Agente al que se debe dirigir a continuación. Si no se necesitan más Agente, dirigir a FINISH.\"\"\"\n",
    "    next: Literal[\"storekeeper\", \"buyer\", \"FINISH\"]\n",
    "\n",
    "llm = ChatOpenAI(model=\"gpt-4o\")\n",
    "\n",
    "def supervisor_node(state: State) -> Command[Literal[\"storekeeper\", \"buyer\", \"__end__\"]]:\n",
    "    messages = [\n",
    "        {\"role\": \"system\", \"content\": system_prompt},\n",
    "    ] + state[\"messages\"]\n",
    "    response = llm.with_structured_output(RouterOutput).invoke(messages)\n",
    "    goto = response[\"next\"]\n",
    "    if goto == \"FINISH\":\n",
    "        goto = END\n",
    "\n",
    "    return Command(update={\n",
    "            \"respuesta_final\":state[\"messages\"][-1].content\n",
    "            }, goto=goto)\n",
    "\n",
    "\n"
   ]
  },
  {
   "cell_type": "markdown",
   "metadata": {},
   "source": [
    "## Agente del almacén"
   ]
  },
  {
   "cell_type": "code",
   "execution_count": 4,
   "metadata": {},
   "outputs": [],
   "source": [
    "from src.tools.fake_api import init_db, fake_request\n",
    "\n",
    "init_db(\"src/data\")"
   ]
  },
  {
   "cell_type": "markdown",
   "metadata": {},
   "source": [
    "### tools"
   ]
  },
  {
   "cell_type": "code",
   "execution_count": 5,
   "metadata": {},
   "outputs": [],
   "source": [
    "def get_all_products():\n",
    "    \"\"\"Se obtienen todos los productos del almacén.\"\"\"\n",
    "\n",
    "    response = fake_request(\"GET\", \"/purchases\")\n",
    "    return response\n"
   ]
  },
  {
   "cell_type": "code",
   "execution_count": 6,
   "metadata": {},
   "outputs": [],
   "source": [
    "def get_product_by_name(product_name):\n",
    "    \"\"\"\n",
    "    Busca producto por medio de nombre en el inventario.\n",
    "\n",
    "\n",
    "    Parámetros:\n",
    "        product_name (str): Nombre del producto a buscar.\n",
    "\n",
    "    Retorno:\n",
    "        dict: Detalles del producto si existe, o un mensaje indicando que no se encontró.    \n",
    "    \"\"\"\n",
    "    response = fake_request(\"GET\", f\"/products/search/{product_name}\")\n",
    "    return response"
   ]
  },
  {
   "cell_type": "code",
   "execution_count": 7,
   "metadata": {},
   "outputs": [],
   "source": [
    "from langgraph.prebuilt import create_react_agent\n",
    "tools = [get_all_products, get_product_by_name]\n",
    "storekeeper_agent = create_react_agent(llm, tools=tools)"
   ]
  },
  {
   "cell_type": "markdown",
   "metadata": {},
   "source": [
    "## Agente de Compras"
   ]
  },
  {
   "cell_type": "code",
   "execution_count": 8,
   "metadata": {},
   "outputs": [],
   "source": [
    "def add_new_product(product_name, quantity, price):\n",
    "    \"\"\"\n",
    "    Registra productos nuevos para el inventario.\n",
    "\n",
    "    Parámetros:\n",
    "        product_name (str): Nombre del producto a registrar.\n",
    "        quantity (int): Cantidad del producto a registrar.\n",
    "        price (float): Precio unitario del producto a registrar.\n",
    "\n",
    "    Retorno:\n",
    "        dict: Mensaje de confirmación con los detalles del producto a registrar.\n",
    "    \"\"\"\n",
    "\n",
    "    new_product = {\"product_name\": product_name, \"quantity\": quantity, \"price\": price}\n",
    "    response = fake_request(\"POST\", \"/purchases/add\", data=new_product)\n",
    "\n",
    "    return response"
   ]
  },
  {
   "cell_type": "code",
   "execution_count": 9,
   "metadata": {},
   "outputs": [],
   "source": [
    "tools_2 = [add_new_product]\n",
    "buyer_agent = create_react_agent(llm, tools=tools_2)"
   ]
  },
  {
   "cell_type": "markdown",
   "metadata": {},
   "source": [
    "## MultiAgente Flujo"
   ]
  },
  {
   "cell_type": "code",
   "execution_count": 10,
   "metadata": {},
   "outputs": [],
   "source": [
    "from langchain_core.messages import HumanMessage\n",
    "from langgraph.checkpoint.memory import MemorySaver\n",
    "\n",
    "\n",
    "def storekeeper_node(state: State) -> Command[Literal[\"supervisor\"]]:\n",
    "    result = storekeeper_agent.invoke(state)\n",
    "    return Command(\n",
    "        update={\n",
    "            \"messages\": HumanMessage(content=result[\"messages\"][-1].content, name=\"storekeeper\")  \n",
    "        },\n",
    "        goto=\"supervisor\",\n",
    "    )\n",
    "\n",
    "\n",
    "def buyer_node(state: State) -> Command[Literal[\"supervisor\"]]:\n",
    "    result = buyer_agent.invoke(state)\n",
    "    return Command(\n",
    "        update={\n",
    "            \"messages\": HumanMessage(content=result[\"messages\"][-1].content, name=\"buyer\")\n",
    "        },\n",
    "        goto=\"supervisor\",\n",
    "    )\n",
    "\n",
    "checkpointer = MemorySaver()\n",
    "\n",
    "builder = StateGraph(State, output=OutputState)\n",
    "\n",
    "builder.add_node(\"supervisor\", supervisor_node)\n",
    "builder.add_node(\"storekeeper\", storekeeper_node)\n",
    "builder.add_node(\"buyer\", buyer_node)\n",
    "\n",
    "builder.add_edge(START, \"supervisor\")\n",
    "\n",
    "graph = builder.compile(checkpointer=checkpointer)"
   ]
  },
  {
   "cell_type": "code",
   "execution_count": 11,
   "metadata": {},
   "outputs": [
    {
     "data": {
      "image/png": "[encoded data removed]",
      "text/plain": [
       "<IPython.core.display.Image object>"
      ]
     },
     "metadata": {},
     "output_type": "display_data"
    }
   ],
   "source": [
    "from IPython.display import display, Image\n",
    "\n",
    "display(Image(graph.get_graph().draw_mermaid_png()))"
   ]
  },
  {
   "cell_type": "code",
   "execution_count": 13,
   "metadata": {},
   "outputs": [
    {
     "name": "stdout",
     "output_type": "stream",
     "text": [
      "((), {'supervisor': {'respuesta_final': 'quiero agregar 3 Polos Rojos con precio unitario de 20.12'}})\n",
      "-----\n",
      "(('buyer:40e95832-6088-ee3f-971f-973eccfd3e6e',), {'agent': {'messages': [AIMessage(content='', additional_kwargs={'tool_calls': [{'id': 'call_ZOJ4sXoVXpWgO3hFtkxtRFeY', 'function': {'arguments': '{\"product_name\":\"Polos Rojos\",\"quantity\":3,\"price\":20.12}', 'name': 'add_new_product'}, 'type': 'function'}], 'refusal': None}, response_metadata={'token_usage': {'completion_tokens': 31, 'prompt_tokens': 224, 'total_tokens': 255, 'completion_tokens_details': {'accepted_prediction_tokens': 0, 'audio_tokens': 0, 'reasoning_tokens': 0, 'rejected_prediction_tokens': 0}, 'prompt_tokens_details': {'audio_tokens': 0, 'cached_tokens': 0}}, 'model_name': 'gpt-4o-2024-08-06', 'system_fingerprint': 'fp_50cad350e4', 'finish_reason': 'tool_calls', 'logprobs': None}, id='run-dcb3be7a-8905-4b2e-8f91-a6f9b02761fd-0', tool_calls=[{'name': 'add_new_product', 'args': {'product_name': 'Polos Rojos', 'quantity': 3, 'price': 20.12}, 'id': 'call_ZOJ4sXoVXpWgO3hFtkxtRFeY', 'type': 'tool_call'}], usage_metadata={'input_tokens': 224, 'output_tokens': 31, 'total_tokens': 255, 'input_token_details': {'audio': 0, 'cache_read': 0}, 'output_token_details': {'audio': 0, 'reasoning': 0}})]}})\n",
      "-----\n",
      "(('buyer:40e95832-6088-ee3f-971f-973eccfd3e6e',), {'tools': {'messages': [ToolMessage(content='{\"message\": \"Purchase added and inventory updated\", \"product\": \"Polos Rojos\", \"quantity\": 3, \"price\": 20.12}', name='add_new_product', id='2c314560-d89f-4227-ad1d-090e42b7a8e4', tool_call_id='call_ZOJ4sXoVXpWgO3hFtkxtRFeY')]}})\n",
      "-----\n",
      "(('buyer:40e95832-6088-ee3f-971f-973eccfd3e6e',), {'agent': {'messages': [AIMessage(content='Los 3 Polos Rojos han sido registrados con éxito en el inventario a un precio unitario de 20.12. ¿Hay algo más en lo que pueda ayudarte?', additional_kwargs={'refusal': None}, response_metadata={'token_usage': {'completion_tokens': 40, 'prompt_tokens': 297, 'total_tokens': 337, 'completion_tokens_details': {'accepted_prediction_tokens': 0, 'audio_tokens': 0, 'reasoning_tokens': 0, 'rejected_prediction_tokens': 0}, 'prompt_tokens_details': {'audio_tokens': 0, 'cached_tokens': 0}}, 'model_name': 'gpt-4o-2024-08-06', 'system_fingerprint': 'fp_50cad350e4', 'finish_reason': 'stop', 'logprobs': None}, id='run-aaf8c1f3-97f8-4ab3-a5e2-114553f3ed55-0', usage_metadata={'input_tokens': 297, 'output_tokens': 40, 'total_tokens': 337, 'input_token_details': {'audio': 0, 'cache_read': 0}, 'output_token_details': {'audio': 0, 'reasoning': 0}})]}})\n",
      "-----\n",
      "((), {'buyer': {'messages': HumanMessage(content='Los 3 Polos Rojos han sido registrados con éxito en el inventario a un precio unitario de 20.12. ¿Hay algo más en lo que pueda ayudarte?', additional_kwargs={}, response_metadata={}, name='buyer')}})\n",
      "-----\n",
      "((), {'supervisor': {'respuesta_final': 'Los 3 Polos Rojos han sido registrados con éxito en el inventario a un precio unitario de 20.12. ¿Hay algo más en lo que pueda ayudarte?'}})\n",
      "-----\n",
      "(('storekeeper:65f395d2-9ead-2fe6-20f3-23f9309bdd1e',), {'agent': {'messages': [AIMessage(content='', additional_kwargs={'tool_calls': [{'id': 'call_xx1dSU81ScAfbAizBRhOflEF', 'function': {'arguments': '{}', 'name': 'get_all_products'}, 'type': 'function'}], 'refusal': None}, response_metadata={'token_usage': {'completion_tokens': 12, 'prompt_tokens': 263, 'total_tokens': 275, 'completion_tokens_details': {'accepted_prediction_tokens': 0, 'audio_tokens': 0, 'reasoning_tokens': 0, 'rejected_prediction_tokens': 0}, 'prompt_tokens_details': {'audio_tokens': 0, 'cached_tokens': 0}}, 'model_name': 'gpt-4o-2024-08-06', 'system_fingerprint': 'fp_4691090a87', 'finish_reason': 'tool_calls', 'logprobs': None}, id='run-9884f8e3-cec0-4be7-91db-dcd6cb16470a-0', tool_calls=[{'name': 'get_all_products', 'args': {}, 'id': 'call_xx1dSU81ScAfbAizBRhOflEF', 'type': 'tool_call'}], usage_metadata={'input_tokens': 263, 'output_tokens': 12, 'total_tokens': 275, 'input_token_details': {'audio': 0, 'cache_read': 0}, 'output_token_details': {'audio': 0, 'reasoning': 0}})]}})\n",
      "-----\n",
      "(('storekeeper:65f395d2-9ead-2fe6-20f3-23f9309bdd1e',), {'tools': {'messages': [ToolMessage(content='[{\"id\": 1, \"product_name\": \"PANTALONES LEVY\", \"quantity\": 2, \"price\": 25.12, \"date\": \"2025-01-17 04:33:30\"}, {\"id\": 2, \"product_name\": \"POLOS ROJOS\", \"quantity\": 3, \"price\": 20.12, \"date\": \"2025-01-17 04:33:52\"}]', name='get_all_products', id='72b937ab-2d34-40e4-a6ee-fd6f335f8718', tool_call_id='call_xx1dSU81ScAfbAizBRhOflEF')]}})\n",
      "-----\n",
      "(('storekeeper:65f395d2-9ead-2fe6-20f3-23f9309bdd1e',), {'agent': {'messages': [AIMessage(content='Los 3 Polos Rojos han sido registrados con éxito en el inventario a un precio unitario de 20.12. ¿Hay algo más en lo que pueda ayudarte?', additional_kwargs={'refusal': None}, response_metadata={'token_usage': {'completion_tokens': 40, 'prompt_tokens': 383, 'total_tokens': 423, 'completion_tokens_details': {'accepted_prediction_tokens': 0, 'audio_tokens': 0, 'reasoning_tokens': 0, 'rejected_prediction_tokens': 0}, 'prompt_tokens_details': {'audio_tokens': 0, 'cached_tokens': 0}}, 'model_name': 'gpt-4o-2024-08-06', 'system_fingerprint': 'fp_4691090a87', 'finish_reason': 'stop', 'logprobs': None}, id='run-ed3dc6a1-800e-4f6a-8896-959486f53f2d-0', usage_metadata={'input_tokens': 383, 'output_tokens': 40, 'total_tokens': 423, 'input_token_details': {'audio': 0, 'cache_read': 0}, 'output_token_details': {'audio': 0, 'reasoning': 0}})]}})\n",
      "-----\n",
      "((), {'storekeeper': {'messages': HumanMessage(content='Los 3 Polos Rojos han sido registrados con éxito en el inventario a un precio unitario de 20.12. ¿Hay algo más en lo que pueda ayudarte?', additional_kwargs={}, response_metadata={}, name='storekeeper')}})\n",
      "-----\n",
      "((), {'supervisor': {'respuesta_final': 'Los 3 Polos Rojos han sido registrados con éxito en el inventario a un precio unitario de 20.12. ¿Hay algo más en lo que pueda ayudarte?'}})\n",
      "-----\n",
      "(('buyer:6ded33f2-ea30-968e-4b99-8283e9ff63f0',), {'agent': {'messages': [AIMessage(content='', additional_kwargs={'tool_calls': [{'id': 'call_7X7V8st0qgZHn0i1Xn2cvhBz', 'function': {'arguments': '{\"product_name\":\"Pantalones Levy\",\"quantity\":2,\"price\":25.12}', 'name': 'add_new_product'}, 'type': 'function'}], 'refusal': None}, response_metadata={'token_usage': {'completion_tokens': 30, 'prompt_tokens': 313, 'total_tokens': 343, 'completion_tokens_details': {'accepted_prediction_tokens': 0, 'audio_tokens': 0, 'reasoning_tokens': 0, 'rejected_prediction_tokens': 0}, 'prompt_tokens_details': {'audio_tokens': 0, 'cached_tokens': 0}}, 'model_name': 'gpt-4o-2024-08-06', 'system_fingerprint': 'fp_50cad350e4', 'finish_reason': 'tool_calls', 'logprobs': None}, id='run-a6e7d2b1-8640-4097-b1ad-1c68f7d6dbf2-0', tool_calls=[{'name': 'add_new_product', 'args': {'product_name': 'Pantalones Levy', 'quantity': 2, 'price': 25.12}, 'id': 'call_7X7V8st0qgZHn0i1Xn2cvhBz', 'type': 'tool_call'}], usage_metadata={'input_tokens': 313, 'output_tokens': 30, 'total_tokens': 343, 'input_token_details': {'audio': 0, 'cache_read': 0}, 'output_token_details': {'audio': 0, 'reasoning': 0}})]}})\n",
      "-----\n",
      "(('buyer:6ded33f2-ea30-968e-4b99-8283e9ff63f0',), {'tools': {'messages': [ToolMessage(content='{\"message\": \"Purchase added and inventory updated\", \"product\": \"Pantalones Levy\", \"quantity\": 2, \"price\": 25.12}', name='add_new_product', id='91835866-324c-43a0-8bfc-9121e899118d', tool_call_id='call_7X7V8st0qgZHn0i1Xn2cvhBz')]}})\n",
      "-----\n",
      "(('buyer:6ded33f2-ea30-968e-4b99-8283e9ff63f0',), {'agent': {'messages': [AIMessage(content='', additional_kwargs={'tool_calls': [{'id': 'call_6pQOoZDZBAhPkwzVWR5EuiFX', 'function': {'arguments': '{\"product_name\":\"Polos Rojos\",\"quantity\":3,\"price\":20.12}', 'name': 'add_new_product'}, 'type': 'function'}], 'refusal': None}, response_metadata={'token_usage': {'completion_tokens': 31, 'prompt_tokens': 384, 'total_tokens': 415, 'completion_tokens_details': {'accepted_prediction_tokens': 0, 'audio_tokens': 0, 'reasoning_tokens': 0, 'rejected_prediction_tokens': 0}, 'prompt_tokens_details': {'audio_tokens': 0, 'cached_tokens': 0}}, 'model_name': 'gpt-4o-2024-08-06', 'system_fingerprint': 'fp_50cad350e4', 'finish_reason': 'tool_calls', 'logprobs': None}, id='run-fb198712-09a0-4c0f-8a4b-db5881c1fbe4-0', tool_calls=[{'name': 'add_new_product', 'args': {'product_name': 'Polos Rojos', 'quantity': 3, 'price': 20.12}, 'id': 'call_6pQOoZDZBAhPkwzVWR5EuiFX', 'type': 'tool_call'}], usage_metadata={'input_tokens': 384, 'output_tokens': 31, 'total_tokens': 415, 'input_token_details': {'audio': 0, 'cache_read': 0}, 'output_token_details': {'audio': 0, 'reasoning': 0}})]}})\n",
      "-----\n",
      "(('buyer:6ded33f2-ea30-968e-4b99-8283e9ff63f0',), {'tools': {'messages': [ToolMessage(content='{\"message\": \"Purchase added and inventory updated\", \"product\": \"Polos Rojos\", \"quantity\": 3, \"price\": 20.12}', name='add_new_product', id='f9f6e4d3-99e1-4d92-831f-2eb7e5e1dea5', tool_call_id='call_6pQOoZDZBAhPkwzVWR5EuiFX')]}})\n",
      "-----\n",
      "(('buyer:6ded33f2-ea30-968e-4b99-8283e9ff63f0',), {'agent': {'messages': [AIMessage(content='Los 2 Pantalones Levy con precio unitario de 25.12 y los 3 Polos Rojos con precio unitario de 20.12 han sido registrados con éxito en el inventario. ¿Hay algo más en lo que pueda ayudarte?', additional_kwargs={'refusal': None}, response_metadata={'token_usage': {'completion_tokens': 56, 'prompt_tokens': 457, 'total_tokens': 513, 'completion_tokens_details': {'accepted_prediction_tokens': 0, 'audio_tokens': 0, 'reasoning_tokens': 0, 'rejected_prediction_tokens': 0}, 'prompt_tokens_details': {'audio_tokens': 0, 'cached_tokens': 0}}, 'model_name': 'gpt-4o-2024-08-06', 'system_fingerprint': 'fp_50cad350e4', 'finish_reason': 'stop', 'logprobs': None}, id='run-626e10e0-07e4-419d-a8bb-0a45eba4a074-0', usage_metadata={'input_tokens': 457, 'output_tokens': 56, 'total_tokens': 513, 'input_token_details': {'audio': 0, 'cache_read': 0}, 'output_token_details': {'audio': 0, 'reasoning': 0}})]}})\n",
      "-----\n",
      "((), {'buyer': {'messages': HumanMessage(content='Los 2 Pantalones Levy con precio unitario de 25.12 y los 3 Polos Rojos con precio unitario de 20.12 han sido registrados con éxito en el inventario. ¿Hay algo más en lo que pueda ayudarte?', additional_kwargs={}, response_metadata={}, name='buyer')}})\n",
      "-----\n",
      "((), {'supervisor': {'respuesta_final': 'Los 2 Pantalones Levy con precio unitario de 25.12 y los 3 Polos Rojos con precio unitario de 20.12 han sido registrados con éxito en el inventario. ¿Hay algo más en lo que pueda ayudarte?'}})\n",
      "-----\n"
     ]
    }
   ],
   "source": [
    "config = {\"configurable\": {\"thread_id\": \"5\"}}\n",
    "mensaje = \"quiero agregar 3 Polos Rojos con precio unitario de 20.12\"\n",
    "for s in graph.stream(\n",
    "    {\"messages\": [(\"user\", mensaje)]}, subgraphs=True, config=config):\n",
    "    print(s)\n",
    "    print(\"-----\")"
   ]
  },
  {
   "cell_type": "code",
   "execution_count": 15,
   "metadata": {},
   "outputs": [
    {
     "name": "stdout",
     "output_type": "stream",
     "text": [
      "Aquí tienes el detalle de los productos en el almacén:\n",
      "\n",
      "1. **PANTALONES LEVY**\n",
      "   - Cantidad: 2\n",
      "   - Precio: $25.12\n",
      "   - Fecha de registro: 17 de enero de 2025, 04:33:30\n",
      "\n",
      "2. **POLOS ROJOS**\n",
      "   - Cantidad: 3\n",
      "   - Precio: $20.12\n",
      "   - Fecha de registro: 17 de enero de 2025, 04:33:52\n",
      "\n",
      "3. **PANTALONES LEVY**\n",
      "   - Cantidad: 2\n",
      "   - Precio: $25.12\n",
      "   - Fecha de registro: 17 de enero de 2025, 04:33:57 (parece ser un registro duplicado)\n",
      "\n",
      "4. **POLOS ROJOS**\n",
      "   - Cantidad: 3\n",
      "   - Precio: $20.12\n",
      "   - Fecha de registro: 17 de enero de 2025, 04:33:58 (otro registro que parece duplicado)\n",
      "\n",
      "Parece que hay duplicación en los registros, revisa por favor si es intencional.\n"
     ]
    }
   ],
   "source": [
    "config = {\"configurable\": {\"thread_id\": \"7\"}}\n",
    "mensaje = \"dame el detalle de los productos en el almacen\"\n",
    "response = graph.invoke({\"messages\": [(\"user\", mensaje)]}, subgraphs=True, config=config)\n",
    "\n",
    "print(response[1][\"respuesta_final\"])"
   ]
  },
  {
   "cell_type": "code",
   "execution_count": 36,
   "metadata": {},
   "outputs": [],
   "source": [
    "from langchain.globals import set_debug\n",
    "\n",
    "set_debug(False)"
   ]
  },
  {
   "cell_type": "code",
   "execution_count": null,
   "metadata": {},
   "outputs": [],
   "source": [
    "config = {\"configurable\": {\"thread_id\": \"7\"}}\n",
    "mensaje = \"dime cuantos polos rojos hay\"\n",
    "response = graph.invoke({\"messages\": [(\"user\", mensaje)]}, subgraphs=True, config=config)\n",
    "\n",
    "print(response[1][\"respuesta_final\"])"
   ]
  },
  {
   "cell_type": "code",
   "execution_count": null,
   "metadata": {},
   "outputs": [],
   "source": [
    "os.environ[\"LANGCHAIN_TRACING_V2\"]=\"true\"\n",
    "os.environ[\"LANGCHAIN_ENDPOINT\"]=\"https://api.smith.langchain.com\"\n",
    "os.environ[\"LANGCHAIN_API_KEY\"]=\"<API_KEY>\""
   ]
  },
  {
   "cell_type": "code",
   "execution_count": null,
   "metadata": {},
   "outputs": [],
   "source": [
    "from langfuse.callback import CallbackHandler\n",
    "langfuse_handler = CallbackHandler(\n",
    "    public_key=\"<PUBLIC_KEY>\",\n",
    "    secret_key=\"<SECRET_KEY>\",\n",
    "    host=\"https://us.cloud.langfuse.com\"\n",
    ")\n",
    "\n",
    "\n",
    "config = {\"configurable\": {\"thread_id\": \"7\"}, \"callbacks\": [langfuse_handler]}\n",
    "mensaje = \"dime cuantos polos rojos hay\"\n",
    "response = graph.invoke({\"messages\": [(\"user\", mensaje)]}, subgraphs=True, config=config)\n",
    "\n",
    "print(response[1][\"respuesta_final\"])"
   ]
  },
  {
   "cell_type": "code",
   "execution_count": null,
   "metadata": {},
   "outputs": [],
   "source": []
  }
 ],
 "metadata": {
  "kernelspec": {
   "display_name": ".venv",
   "language": "python",
   "name": "python3"
  },
  "language_info": {
   "codemirror_mode": {
    "name": "ipython",
    "version": 3
   },
   "file_extension": ".py",
   "mimetype": "text/x-python",
   "name": "python",
   "nbconvert_exporter": "python",
   "pygments_lexer": "ipython3",
   "version": "3.11.9"
  }
 },
 "nbformat": 4,
 "nbformat_minor": 2
}
